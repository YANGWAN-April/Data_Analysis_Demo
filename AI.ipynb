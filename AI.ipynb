{
 "cells": [
  {
   "metadata": {
    "ExecuteTime": {
     "end_time": "2025-10-29T14:59:26.661248Z",
     "start_time": "2025-10-29T14:59:25.892936Z"
    }
   },
   "cell_type": "code",
   "source": [
    "import pandas as pd\n",
    "\n",
    "df = pd.read_csv('e_commerce.csv')"
   ],
   "id": "e92b47152178e469",
   "outputs": [],
   "execution_count": 2
  },
  {
   "metadata": {
    "collapsed": true,
    "ExecuteTime": {
     "end_time": "2025-10-29T14:59:30.666026Z",
     "start_time": "2025-10-29T14:59:28.823514Z"
    }
   },
   "cell_type": "code",
   "source": [
    "# 删除Description为空且单价为0的记录\n",
    "df = df.drop(df[(df[\"Description\"].isnull()) & (df[\"UnitPrice\"] == 0)].index)\n",
    "\n",
    "# 将CustomerID列转换为字符串类型\n",
    "df['CustomerID'] = df['CustomerID'].astype(str)\n",
    "\n",
    "# 将InvoiceDate列转换为日期时间格式\n",
    "df['InvoiceDate'] = pd.to_datetime(df['InvoiceDate'])\n",
    "\n",
    "# 对于Quantity小于0的记录，检查是否是取消订单（InvoiceNo以C开头），如果是，则保留；否则，删除\n",
    "df = df[~((df['Quantity'] < 0) & (~df['InvoiceNo'].str.startswith('C')))]\n",
    "\n",
    "# 显示清理后的数据信息\n",
    "df.info()"
   ],
   "id": "76a72b0f17811207",
   "outputs": [
    {
     "name": "stdout",
     "output_type": "stream",
     "text": [
      "<class 'pandas.core.frame.DataFrame'>\n",
      "Int64Index: 539981 entries, 0 to 541908\n",
      "Data columns (total 8 columns):\n",
      " #   Column       Non-Null Count   Dtype         \n",
      "---  ------       --------------   -----         \n",
      " 0   InvoiceNo    539981 non-null  object        \n",
      " 1   StockCode    539981 non-null  object        \n",
      " 2   Description  539981 non-null  object        \n",
      " 3   Quantity     539981 non-null  int64         \n",
      " 4   InvoiceDate  539981 non-null  datetime64[ns]\n",
      " 5   UnitPrice    539981 non-null  float64       \n",
      " 6   CustomerID   539981 non-null  object        \n",
      " 7   Country      539981 non-null  object        \n",
      "dtypes: datetime64[ns](1), float64(1), int64(1), object(5)\n",
      "memory usage: 37.1+ MB\n"
     ]
    }
   ],
   "execution_count": 3
  },
  {
   "metadata": {
    "ExecuteTime": {
     "end_time": "2025-10-29T14:59:41.920439Z",
     "start_time": "2025-10-29T14:59:39.975599Z"
    }
   },
   "cell_type": "code",
   "source": [
    "# 计算每个产品的总销售额\n",
    "sales_by_product = df.groupby('StockCode')['Quantity', 'UnitPrice'].apply(lambda x: (x['Quantity'] * x['UnitPrice']).sum()).reset_index(name='TotalSales')\n",
    "\n",
    "# 按销售额降序排列\n",
    "top_selling_products = sales_by_product.sort_values(by='TotalSales', ascending=False).head(10)\n",
    "\n",
    "# 可视化畅销产品\n",
    "import matplotlib.pyplot as plt\n",
    "\n",
    "plt.figure(figsize=(10, 6))\n",
    "plt.bar(top_selling_products['StockCode'], top_selling_products['TotalSales'])\n",
    "plt.xlabel('Product Code')\n",
    "plt.ylabel('Total Sales (£)')\n",
    "plt.title('Top 10 Selling Products by Total Sales')\n",
    "plt.xticks(rotation=90)\n",
    "plt.show()\n",
    "\n",
    "# 打印出前10个畅销产品及其销售额\n",
    "print(top_selling_products)"
   ],
   "id": "1cfa15fb1e33910c",
   "outputs": [
    {
     "name": "stderr",
     "output_type": "stream",
     "text": [
      "D:\\Anaconda3\\envs\\pytorch\\lib\\site-packages\\ipykernel_launcher.py:2: FutureWarning: Indexing with multiple keys (implicitly converted to a tuple of keys) will be deprecated, use a list instead.\n",
      "  \n"
     ]
    },
    {
     "data": {
      "text/plain": [
       "<Figure size 720x432 with 1 Axes>"
      ],
      "image/png": "[encoded data removed]"
     },
     "metadata": {
      "needs_background": "light"
     },
     "output_type": "display_data"
    },
    {
     "name": "stdout",
     "output_type": "stream",
     "text": [
      "     StockCode  TotalSales\n",
      "3930       DOT   206245.48\n",
      "1313     22423   164762.19\n",
      "2678     47566    98302.98\n",
      "3424    85123A    97894.50\n",
      "3404    85099B    92356.03\n",
      "1946     23084    66756.59\n",
      "3933      POST    66230.64\n",
      "1009     22086    63791.94\n",
      "3205     84879    58959.73\n",
      "2854     79321    53768.06\n"
     ]
    }
   ],
   "execution_count": 4
  }
 ],
 "metadata": {
  "kernelspec": {
   "display_name": "Python 3",
   "language": "python",
   "name": "python3"
  },
  "language_info": {
   "codemirror_mode": {
    "name": "ipython",
    "version": 2
   },
   "file_extension": ".py",
   "mimetype": "text/x-python",
   "name": "python",
   "nbconvert_exporter": "python",
   "pygments_lexer": "ipython2",
   "version": "2.7.6"
  }
 },
 "nbformat": 4,
 "nbformat_minor": 5
}
